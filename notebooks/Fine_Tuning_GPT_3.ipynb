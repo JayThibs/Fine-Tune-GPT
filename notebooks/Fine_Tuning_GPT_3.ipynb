{
  "nbformat": 4,
  "nbformat_minor": 0,
  "metadata": {
    "colab": {
      "name": "Fine-Tuning GPT-3.ipynb",
      "provenance": [],
      "collapsed_sections": [],
      "authorship_tag": "ABX9TyMsKY+wiwBnaF67PXctOfK7",
      "include_colab_link": true
    },
    "kernelspec": {
      "name": "python3",
      "display_name": "Python 3"
    },
    "language_info": {
      "name": "python"
    }
  },
  "cells": [
    {
      "cell_type": "markdown",
      "metadata": {
        "id": "view-in-github",
        "colab_type": "text"
      },
      "source": [
        "<a href=\"https://colab.research.google.com/github/JayThibs/Fine-Tune-GPT/blob/main/notebooks/Fine_Tuning_GPT_3.ipynb\" target=\"_parent\"><img src=\"https://colab.research.google.com/assets/colab-badge.svg\" alt=\"Open In Colab\"/></a>"
      ]
    },
    {
      "cell_type": "markdown",
      "metadata": {
        "id": "FiYA1uUdmOfv"
      },
      "source": [
        "# Fine-Tuning GPT-3\n",
        "\n",
        "Note: Before running the code, create a .env file locally on your machine with the following inside of it:\n",
        "\n",
        "`OPENAI_API_KEY='[YOUR_OPENAI_KEY_HERE]'`\n",
        "\n"
      ]
    },
    {
      "cell_type": "markdown",
      "metadata": {
        "id": "EnhbbW3lmr5U"
      },
      "source": [
        "## Installations"
      ]
    },
    {
      "cell_type": "code",
      "metadata": {
        "colab": {
          "base_uri": "https://localhost:8080/"
        },
        "id": "lr6i4a0RmwYt",
        "outputId": "19912b19-d19f-4a7d-ede3-ddc2f0450f37"
      },
      "source": [
        "!pip install --upgrade gensim --quiet\n",
        "!pip install --upgrade openai --quiet\n",
        "!pip install python-dotenv --quiet\n",
        "import nltk\n",
        "nltk.download('punkt')"
      ],
      "execution_count": 30,
      "outputs": [
        {
          "output_type": "stream",
          "name": "stdout",
          "text": [
            "[nltk_data] Downloading package punkt to /root/nltk_data...\n",
            "[nltk_data]   Package punkt is already up-to-date!\n"
          ]
        },
        {
          "output_type": "execute_result",
          "data": {
            "text/plain": [
              "True"
            ]
          },
          "metadata": {},
          "execution_count": 30
        }
      ]
    },
    {
      "cell_type": "markdown",
      "metadata": {
        "id": "hRi5p3QbmnGQ"
      },
      "source": [
        "## Preparing fine-tuning file"
      ]
    },
    {
      "cell_type": "code",
      "metadata": {
        "id": "tbGql5Ikw_Zf"
      },
      "source": [
        "import os\n",
        "from pathlib import Path\n",
        "import openai"
      ],
      "execution_count": 36,
      "outputs": []
    },
    {
      "cell_type": "code",
      "metadata": {
        "id": "u5TTaVS4mSLU"
      },
      "source": [
        "kantStr = Path('kant.txt').read_text()\n",
        "# print(kantStr[0:1000])"
      ],
      "execution_count": 37,
      "outputs": []
    },
    {
      "cell_type": "code",
      "metadata": {
        "id": "uJZzDhDmoNDi"
      },
      "source": [
        "klist = nltk.tokenize.sent_tokenize(kantStr)"
      ],
      "execution_count": 38,
      "outputs": []
    },
    {
      "cell_type": "code",
      "metadata": {
        "colab": {
          "base_uri": "https://localhost:8080/"
        },
        "id": "pP1EujEkwovH",
        "outputId": "7ec715c9-c930-4241-c7f5-76e23c94a161"
      },
      "source": [
        "print(klist[0:10])"
      ],
      "execution_count": 39,
      "outputs": [
        {
          "output_type": "stream",
          "name": "stdout",
          "text": [
            "['\\nThe Project Gutenberg EBook of The Critique of Pure Reason, by Immanuel Kant\\n\\nThis eBook is for the use of anyone anywhere at no cost and with\\nalmost no restrictions whatsoever.', 'You may copy it, give it away or\\nre-use it under the terms of the Project Gutenberg License included\\nwith this eBook or online at www.gutenberg.net\\n\\n\\nTitle: The Critique of Pure Reason\\n\\nAuthor: Immanuel Kant\\n\\nRelease Date: July, 2003 [EBook #4280]\\nLast Updated: January 5, 2020\\n\\nLanguage: English\\n\\nCharacter set encoding: UTF-8\\n\\n*** START OF THIS PROJECT GUTENBERG EBOOK THE CRITIQUE OF PURE REASON  ***\\n\\n\\n\\nProduced by Charles Aldarondo and David Widger\\n\\n[Illustration]\\n\\n\\nThe Critique of Pure Reason\\n\\nBy Immanuel Kant\\n\\nTranslated by J. M. D. Meiklejohn\\n\\n\\n\\n\\nContents\\n\\n Preface to the First Edition (1781)\\n\\n Preface to the Second Edition (1787)\\n\\n Introduction\\n\\n I.', 'Of the difference between Pure and Empirical Knowledge\\n\\n II.', 'The Human Intellect, even in an Unphilosophical State, is in\\n Possession of Certain Cognitions “à priori”.', 'III.', 'Philosophy stands in need of a Science which shall Determine the\\n Possibility, Principles, and Extent of Human Knowledge “à priori”\\n\\n IV.', 'Of the Difference Between Analytical and Synthetical Judgements.', 'V. In all Theoretical Sciences of Reason, Synthetical Judgements “à\\n priori” are contained as Principles.', 'VI.', 'The Universal Problem of Pure Reason.']\n"
          ]
        }
      ]
    },
    {
      "cell_type": "code",
      "metadata": {
        "colab": {
          "base_uri": "https://localhost:8080/"
        },
        "id": "B4SOgMeewqSZ",
        "outputId": "686f992e-4274-4b70-b43b-a32157a757e0"
      },
      "source": [
        "L = len(klist)\n",
        "print(L)"
      ],
      "execution_count": 40,
      "outputs": [
        {
          "output_type": "stream",
          "name": "stdout",
          "text": [
            "41212\n"
          ]
        }
      ]
    },
    {
      "cell_type": "code",
      "metadata": {
        "id": "H1nrgsE2wyqY"
      },
      "source": [
        "f = open(\"kantgpt.txt\", \"w\")\n",
        "\n",
        "for i in range(L):\n",
        "    ks = klist[i]\n",
        "    prompt = ks[0:len(ks)//2]\n",
        "    completion = ks[len(ks)//2 if len(ks)%2 == 0 else ((len(kantStr)//2)+1):]\n",
        "\n",
        "    scenario = 2\n",
        "\n",
        "    # Scenario 1 json\n",
        "    if scenario == 1:\n",
        "        fw = \"{\"+\"'\"+\"prompt\"+\"'\"+\":\"+\"'\"+\",\"+\"'\"+\"completion\"+\"'\"+\":\"+\"'\"+completion+\"'\"+\"}\"+\"\\n\"\n",
        "        f.write(str(fw))\n",
        "\n",
        "    \n",
        "    # Scenario 2 json\n",
        "    if scenario == 2:\n",
        "        fw = \"prompt\"+prompt+\",\"+\"completion:\"+completion+\"\\n\"\n",
        "        f.write(str(fw))\n",
        "\n",
        "f.close()"
      ],
      "execution_count": 41,
      "outputs": []
    },
    {
      "cell_type": "code",
      "metadata": {
        "colab": {
          "base_uri": "https://localhost:8080/"
        },
        "id": "VYldimTI1Eg9",
        "outputId": "ff7c839c-9e16-43e3-ebdb-1df349da547c"
      },
      "source": [
        "import dotenv\n",
        "dotenv.load_dotenv('.env')"
      ],
      "execution_count": 42,
      "outputs": [
        {
          "output_type": "execute_result",
          "data": {
            "text/plain": [
              "True"
            ]
          },
          "metadata": {},
          "execution_count": 42
        }
      ]
    },
    {
      "cell_type": "code",
      "metadata": {
        "colab": {
          "base_uri": "https://localhost:8080/"
        },
        "id": "uZMuC4ql0fI2",
        "outputId": "2eb14e42-ab86-4aee-91ea-34592fb6e0b7"
      },
      "source": [
        "!openai tools fine_tunes.prepare_data -f \"kantgpt.csv\""
      ],
      "execution_count": 43,
      "outputs": [
        {
          "output_type": "stream",
          "name": "stdout",
          "text": [
            "Analyzing...\n",
            "\n",
            "\n",
            "ERROR in read_any_format validator: File kantgpt.csv does not exist.\n",
            "\n",
            "Aborting..."
          ]
        }
      ]
    },
    {
      "cell_type": "code",
      "metadata": {
        "id": "LrvCKHoc2BwA"
      },
      "source": [
        ""
      ],
      "execution_count": null,
      "outputs": []
    }
  ]
}